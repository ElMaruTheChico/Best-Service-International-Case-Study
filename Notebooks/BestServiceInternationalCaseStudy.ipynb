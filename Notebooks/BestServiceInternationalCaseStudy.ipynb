{
 "cells": [
  {
   "cell_type": "markdown",
   "id": "5f45d2d9-e717-4b74-a526-00beb086f000",
   "metadata": {},
   "source": [
    "The purpose of this notebook is to perform analysis for the Best Service International Case Study"
   ]
  },
  {
   "cell_type": "code",
   "execution_count": 1,
   "id": "14cec318-bbd1-49e4-87d9-1947ea38b53f",
   "metadata": {},
   "outputs": [],
   "source": [
    "import pandas as pd\n",
    "import os\n",
    "import matplotlib.pyplot as plt"
   ]
  },
  {
   "cell_type": "code",
   "execution_count": 13,
   "id": "32db7a97-b5eb-4637-a962-1656996a505b",
   "metadata": {},
   "outputs": [
    {
     "name": "stdout",
     "output_type": "stream",
     "text": [
      "The names of the sheets in the file are as follows: ['Sales Data', 'PTT Lead Data', 'Staff List']\n"
     ]
    }
   ],
   "source": [
    "data_folder = \"../Data\" #defining a relative path to the data file\n",
    "excel_file_path = os.path.join(data_folder, \"Best Service International Sales Data.xlsx\") #Construct a full path including the Excel file\n",
    "\n",
    "excel_file = pd.ExcelFile(excel_file_path)\n",
    "print('The names of the sheets in the file are as follows:', excel_file.sheet_names)"
   ]
  },
  {
   "cell_type": "code",
   "execution_count": 19,
   "id": "e4618cf9-608b-4eef-8845-84f4d6bef02f",
   "metadata": {},
   "outputs": [
    {
     "name": "stdout",
     "output_type": "stream",
     "text": [
      "The Sales Data table looks as follows\n",
      "    Sale Date  Cell Number Sale Consultant Employee Number        Province  \\\n",
      "0  2020/01/02    721585874                         D194371  Not Applicable   \n",
      "1  2020/01/02    835550504                         D194371  Not Applicable   \n",
      "2  2020/01/02    614651899                         D194371  Not Applicable   \n",
      "3  2020/01/02    717053334                         D194371  Not Applicable   \n",
      "4  2020/01/02    825127720                         D194371  Not Applicable   \n",
      "\n",
      "           Branch           Lead Source conditions          Product Range  \\\n",
      "0  Not Applicable  Proactive Engagement         No  Savings & Investments   \n",
      "1  Not Applicable  Proactive Engagement        Yes  Savings & Investments   \n",
      "2  Not Applicable  Proactive Engagement        Yes  Savings & Investments   \n",
      "3  Not Applicable  Proactive Engagement         No  Savings & Investments   \n",
      "4  Not Applicable  Proactive Engagement        Yes  Savings & Investments   \n",
      "\n",
      "  Concluded   Valid Sale?  \n",
      "0       Yes    Valid Sale  \n",
      "1       Yes  Invalid Sale  \n",
      "2       Yes    Valid Sale  \n",
      "3       Yes    Valid Sale  \n",
      "4       Yes  Invalid Sale  \n",
      "\n",
      "The Portfolio Tracker Tool table looks as follows\n",
      "   Cell Number Month Sale Consultant Employee Number Customer Location\n",
      "0    721585874   Jan                         D217104           Gauteng\n",
      "1    835550504   Jan                         D198743    Northern Cape \n",
      "2    614651899   Jan                         D215604     Western Cape \n",
      "3    717053334   Jan                         D226001           Limpopo\n",
      "4    825127720   Jan                         D205062       Mpumalanga \n",
      "\n",
      "The Staff List table looks as follows\n",
      "              Name  Employee Number   Team Leader \n",
      "0   Susana Chaffins         D217104     John Smith\n",
      "1        Asley Loch         D198743  Thabo Matangu\n",
      "2      Hedy Kimmell         D215604   Sarah Jacobs\n",
      "3  Martha Frechette         D226001  Jessica Grove\n",
      "4       Luke Torian         D205062   Sarah Jacobs\n"
     ]
    }
   ],
   "source": [
    "dfs = pd.read_excel(excel_file_path, sheet_name=None)\n",
    "print('The Sales Data table looks as follows')\n",
    "print(dfs['Sales Data'].head())\n",
    "print()\n",
    "print('The Portfolio Tracker Tool table looks as follows')\n",
    "print(dfs['PTT Lead Data'].head())\n",
    "print()\n",
    "print('The Staff List table looks as follows')\n",
    "print(dfs['Staff List'].head())"
   ]
  },
  {
   "cell_type": "markdown",
   "id": "3481d88c-9ebc-41ad-ab47-7e6d6b841e21",
   "metadata": {},
   "source": [
    "In order to make the data faster to work with, I will use only the fields I think are important in the Sales Data table. This means dropping the Province, Branch, Concluded, and Product Range fields. The necessary fields will be added to a new data frame called salesData"
   ]
  },
  {
   "cell_type": "code",
   "execution_count": null,
   "id": "b63b76f1-a1a6-4a36-9577-3db9a5d55f01",
   "metadata": {},
   "outputs": [],
   "source": []
  }
 ],
 "metadata": {
  "kernelspec": {
   "display_name": "Python 3 (ipykernel)",
   "language": "python",
   "name": "python3"
  },
  "language_info": {
   "codemirror_mode": {
    "name": "ipython",
    "version": 3
   },
   "file_extension": ".py",
   "mimetype": "text/x-python",
   "name": "python",
   "nbconvert_exporter": "python",
   "pygments_lexer": "ipython3",
   "version": "3.12.7"
  }
 },
 "nbformat": 4,
 "nbformat_minor": 5
}
